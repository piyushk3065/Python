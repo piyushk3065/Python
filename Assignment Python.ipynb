{
 "cells": [
  {
   "cell_type": "code",
   "execution_count": 5,
   "id": "e7cb8e38",
   "metadata": {},
   "outputs": [
    {
     "name": "stdout",
     "output_type": "stream",
     "text": [
      "Enter the number : 5\n",
      "num is not even.\n"
     ]
    }
   ],
   "source": [
    "#Python program to check whether the given number is even or not.\n",
    "\n",
    "num = int(input(\"Enter the number : \"))\n",
    "if (num % 2 == 0):\n",
    "    print(\"num is even\")\n",
    "else:\n",
    "    print(\"num is not even.\")"
   ]
  },
  {
   "cell_type": "code",
   "execution_count": 4,
   "id": "3ee589a7",
   "metadata": {},
   "outputs": [
    {
     "name": "stdout",
     "output_type": "stream",
     "text": [
      "Enter the Temp to convert : 45.2\n",
      "45.2 degree Celsius is equal to 113.4 degree Fahrenheit\n"
     ]
    }
   ],
   "source": [
    "# Python Program to convert temperature in celsius to fahrenheit\n",
    "    \n",
    "celsius = float(input(\"Enter the Temp to convert : \"))\n",
    "\n",
    "# calculate fahrenheit\n",
    "fahrenheit = (celsius * 1.8) + 32\n",
    "print('%0.1f degree Celsius is equal to %0.1f degree Fahrenheit' %(celsius,fahrenheit))"
   ]
  },
  {
   "cell_type": "code",
   "execution_count": 6,
   "id": "ed0859d0",
   "metadata": {},
   "outputs": [
    {
     "name": "stdout",
     "output_type": "stream",
     "text": [
      "Height of the Triangle:15\n",
      "Base of the Triangle:10\n",
      "Area of triangle is  75.0\n"
     ]
    }
   ],
   "source": [
    "# Python Program to find the area of triangle\n",
    "\n",
    "A = int(input(\"Height of the Triangle:\"))\n",
    "B = int(input(\"Base of the Triangle:\"))\n",
    "Area = 1/2*A*B ;\n",
    "print(\"Area of triangle is \", Area)"
   ]
  },
  {
   "cell_type": "code",
   "execution_count": 2,
   "id": "8e6ca675",
   "metadata": {},
   "outputs": [
    {
     "name": "stdout",
     "output_type": "stream",
     "text": [
      "Enter the total number you want to enter:2\n",
      "Enter the number:12\n",
      "Enter the number:14\n",
      "Average = 13.0\n"
     ]
    }
   ],
   "source": [
    "#Python program to find out the average of a set of integers\n",
    "\n",
    "A = int(input(\"Enter the total number you want to enter:\"))\n",
    "\n",
    "sum = 0\n",
    "\n",
    "for i in range(A):\n",
    "    x = int(input(\"Enter the number:\"))\n",
    "    sum = sum + x\n",
    "\n",
    "avg = sum / A \n",
    "\n",
    "print(\"Average =\", avg)"
   ]
  },
  {
   "cell_type": "code",
   "execution_count": 3,
   "id": "37662a90",
   "metadata": {},
   "outputs": [
    {
     "name": "stdout",
     "output_type": "stream",
     "text": [
      "Enter the number of real numbers: 3\n",
      "Enter a real number: 12\n",
      "Enter a real number: 11\n",
      "Enter a real number: 10\n",
      "The product of the numbers is:  1320.0\n"
     ]
    }
   ],
   "source": [
    "#Python program to find the product of a set of real numbers\n",
    "\n",
    "j = 0\n",
    "\n",
    "product = 1\n",
    "\n",
    "count = int(input(\"Enter the number of real numbers: \"))\n",
    "\n",
    "for j in range(count):\n",
    "\n",
    "   B = float(input(\"Enter a real number: \"))\n",
    "\n",
    "   product = product * B\n",
    "\n",
    "print(\"The product of the numbers is: \", product)"
   ]
  },
  {
   "cell_type": "code",
   "execution_count": 4,
   "id": "9e45b0e7",
   "metadata": {},
   "outputs": [
    {
     "name": "stdout",
     "output_type": "stream",
     "text": [
      "Radius of the Circle:10\n",
      "Circumference of circle is  62.800000000000004\n",
      "Area of the cicle is  314.0\n"
     ]
    }
   ],
   "source": [
    "#python program to find the circumference and area of a circle with a given radius\n",
    "\n",
    "A = int(input(\"Radius of the Circle:\"))\n",
    "PI = 3.14\n",
    "radius = 6765\n",
    "\n",
    "Circumference = 2 * PI * A\n",
    "Area = PI * A * A\n",
    "\n",
    "\n",
    "print(\"Circumference of circle is \", Circumference)\n",
    "print(\"Area of the cicle is \", Area)"
   ]
  },
  {
   "cell_type": "code",
   "execution_count": 5,
   "id": "3dcb92b3",
   "metadata": {},
   "outputs": [
    {
     "name": "stdout",
     "output_type": "stream",
     "text": [
      "Enter the number to check:146\n",
      "146 is not a multiple  of 5\n"
     ]
    }
   ],
   "source": [
    "#Python program to check whether the given integer is a multiple of 5. \n",
    "\n",
    "n = int(input(\"Enter the number to check:\"))\n",
    "\n",
    "if (n % 5 == 0):\n",
    "    print(n,\"is a multiple of 5\")\n",
    "else:\n",
    "    print(n,\"is not a multiple  of 5\")"
   ]
  },
  {
   "cell_type": "code",
   "execution_count": 6,
   "id": "c24d2cb1",
   "metadata": {},
   "outputs": [
    {
     "name": "stdout",
     "output_type": "stream",
     "text": [
      "Enter the number to be check:52\n",
      "52 is not multiple of 5 and 7\n"
     ]
    }
   ],
   "source": [
    "#Python program to check whether the given integer is a multiple of both 5 and 7\n",
    "\n",
    "m = int(input(\"Enter the number to be check:\"))\n",
    "\n",
    "if m%5==0:                                    \n",
    "    \n",
    "    if m%7==0:                                \n",
    "        print(m,'is multiple of 5 and 7')      \n",
    "    else:\n",
    "        print(m,'is multiple of 5 but not 7')  \n",
    "else:\n",
    "    print(m,'is not multiple of 5 and 7') "
   ]
  },
  {
   "cell_type": "code",
   "execution_count": 7,
   "id": "77a8391d",
   "metadata": {},
   "outputs": [
    {
     "name": "stdout",
     "output_type": "stream",
     "text": [
      "Enter the integer number: 54\n",
      "The reverse number is : 45\n"
     ]
    }
   ],
   "source": [
    "#Python program to display the given integer in a reverse manner\n",
    "\n",
    "num = int(input(\"Enter the integer number: \"))  \n",
    "  \n",
    "revs_num = 0  \n",
    "  \n",
    "while (num > 0):  \n",
    "    remainder = num % 10  \n",
    "    revs_num = (revs_num * 10) + remainder  \n",
    "    num = num // 10  \n",
    "  \n",
    "print(\"The reverse number is :\",revs_num) "
   ]
  },
  {
   "cell_type": "code",
   "execution_count": 8,
   "id": "9daaa04c",
   "metadata": {},
   "outputs": [
    {
     "name": "stdout",
     "output_type": "stream",
     "text": [
      "The original list is : [2, 7, 5, 9, 3, 11]\n",
      "The geometric mean of list is : 5.243755272988115\n"
     ]
    }
   ],
   "source": [
    "#Python program to find the geometric mean of n numbers.\n",
    "\n",
    "import math \n",
    " \n",
    "test_list = [2, 7, 5, 9, 3, 11] \n",
    " \n",
    "print(\"The original list is : \" + str(test_list)) \n",
    " \n",
    "temp = 1\n",
    "for i in range(0, len(test_list)) : \n",
    "    temp = temp * test_list[i] \n",
    "temp2 = (float)(math.pow(temp, (1 / len(test_list)))) \n",
    "res = (float)(temp2) \n",
    " \n",
    "print(\"The geometric mean of list is : \" + str(res)) "
   ]
  },
  {
   "cell_type": "code",
   "execution_count": 11,
   "id": "d66cfeac",
   "metadata": {},
   "outputs": [
    {
     "name": "stdout",
     "output_type": "stream",
     "text": [
      "Enter the number :123\n",
      "6\n"
     ]
    }
   ],
   "source": [
    "#Python program to find the sum of the digits of an integer using a while loop.\n",
    "\n",
    "A = int(input(\"Enter the number :\"))\n",
    "sum = 0\n",
    "while A > 0:\n",
    "    sum += A % 10\n",
    "    A //= 10\n",
    "print(sum)"
   ]
  },
  {
   "cell_type": "code",
   "execution_count": 12,
   "id": "e133e385",
   "metadata": {},
   "outputs": [
    {
     "name": "stdout",
     "output_type": "stream",
     "text": [
      "Enter the start range:12\n",
      "Enter the end range:35\n",
      "12\n",
      "15\n",
      "18\n",
      "21\n",
      "24\n",
      "27\n",
      "30\n",
      "33\n"
     ]
    }
   ],
   "source": [
    "#Python program to display all the multiples of 3 within the range 10 to 50\n",
    "\n",
    "A = int(input(\"Enter the start range:\"))\n",
    "B = int(input(\"Enter the end range:\"))\n",
    "\n",
    "for num in range(A , B + 1):\n",
    "    if num % 3 == 0:\n",
    "        # Display the multiple of 3\n",
    "        print(num)"
   ]
  },
  {
   "cell_type": "code",
   "execution_count": 14,
   "id": "ac00f3c8",
   "metadata": {},
   "outputs": [
    {
     "name": "stdout",
     "output_type": "stream",
     "text": [
      "All Integers Within The Range 100-200 Whose Sum Of Digits Is An Even Number is  ['101', '103', '105', '107', '109', '110', '112', '114', '116', '118', '121', '123', '125', '127', '129', '130', '132', '134', '136', '138', '141', '143', '145', '147', '149', '150', '152', '154', '156', '158', '161', '163', '165', '167', '169', '170', '172', '174', '176', '178', '181', '183', '185', '187', '189', '190', '192', '194', '196', '198', '200']\n"
     ]
    }
   ],
   "source": [
    "#Python program to display all integers within the range 100-200 whose sum of digits is an even number\n",
    "\n",
    "list=[]                   \n",
    "for i in range(100,201):  \n",
    "    i=str(i)              \n",
    "    sum=0                 \n",
    "    for j in i:        \n",
    "        j=int(j)        \n",
    "        sum=sum+j         \n",
    "    if sum%2==0:          \n",
    "        list.append(i)    \n",
    "print(\"All Integers Within The Range 100-200 Whose Sum Of Digits Is An Even Number is \",list)"
   ]
  },
  {
   "cell_type": "code",
   "execution_count": 16,
   "id": "7787b136",
   "metadata": {},
   "outputs": [
    {
     "name": "stdout",
     "output_type": "stream",
     "text": [
      "Enter the number4\n",
      "4 is not prime number.\n"
     ]
    }
   ],
   "source": [
    "# Python program to check whether the given integer is a prime number or not\n",
    "\n",
    "n = int(input(\"Enter the number\"))\n",
    "flage = True\n",
    "for i in range(2, n):\n",
    "    if n%i == 0:\n",
    "        print(n,\"is not prime number.\")\n",
    "        flage  = False\n",
    "        break\n",
    "    else:\n",
    "        continue\n",
    "if flage == True:   \n",
    "    print(n, \"is a prime number.\")"
   ]
  },
  {
   "cell_type": "code",
   "execution_count": 17,
   "id": "4c3f8934",
   "metadata": {},
   "outputs": [
    {
     "name": "stdout",
     "output_type": "stream",
     "text": [
      "Enter the value of N: 14\n",
      "Prime numbers from 1 to 14:\n",
      "2\n",
      "3\n",
      "5\n",
      "7\n",
      "11\n",
      "13\n"
     ]
    }
   ],
   "source": [
    "# Python program to generate prime numbers from 1 to N\n",
    "\n",
    "N = int(input(\"Enter the value of N: \"))\n",
    "def is_prime(num):\n",
    "    if num < 2:\n",
    "        return False\n",
    "    for i in range(2, int(num**0.5) + 1):\n",
    "        if num % i == 0:\n",
    "            return False  \n",
    "    return True  \n",
    "\n",
    "print(f\"Prime numbers from 1 to {N}:\")\n",
    "for num in range(2, N + 1):\n",
    "    if is_prime(num):\n",
    "        print(num)"
   ]
  },
  {
   "cell_type": "code",
   "execution_count": 11,
   "id": "0218610e",
   "metadata": {},
   "outputs": [
    {
     "name": "stdout",
     "output_type": "stream",
     "text": [
      "Enter the coefficient a: 10\n",
      "Enter the coefficient b: 6\n",
      "Enter the coefficient c: 5\n",
      "The roots of the quadratic equation 10.0x^2 + 6.0x + 5.0 = 0 are:\n",
      "Root 1: (-0.3+0.6403124237432849j)\n",
      "Root 2: (-0.3-0.6403124237432849j)\n"
     ]
    }
   ],
   "source": [
    "#Python program to find the roots of a quadratic equation\n",
    "\n",
    "import cmath\n",
    "\n",
    "def find_roots(a, b, c):\n",
    "    discriminant = cmath.sqrt(b**2 - 4*a*c)\n",
    "\n",
    "    root1 = (-b + discriminant) / (2*a)\n",
    "    root2 = (-b - discriminant) / (2*a)\n",
    "\n",
    "    return root1, root2\n",
    "\n",
    "a = float(input(\"Enter the coefficient a: \"))\n",
    "b = float(input(\"Enter the coefficient b: \"))\n",
    "c = float(input(\"Enter the coefficient c: \"))\n",
    "\n",
    "roots = find_roots(a, b, c)\n",
    "\n",
    "print(f\"The roots of the quadratic equation {a}x^2 + {b}x + {c} = 0 are:\")\n",
    "print(f\"Root 1: {roots[0]}\")\n",
    "print(f\"Root 2: {roots[1]}\")"
   ]
  },
  {
   "cell_type": "code",
   "execution_count": 19,
   "id": "632cf11c",
   "metadata": {},
   "outputs": [
    {
     "name": "stdout",
     "output_type": "stream",
     "text": [
      "Enter a number: 10\n",
      "10\n",
      "9\n",
      "8\n",
      "7\n",
      "6\n",
      "5\n",
      "4\n",
      "3\n",
      "2\n",
      "1\n",
      "0\n"
     ]
    }
   ],
   "source": [
    "# Python program to print numbers from n to 0 using recursion\n",
    "\n",
    "n = int(input(\"Enter a number: \")) \n",
    "def print_numbers_down_to_zero(n):\n",
    "\n",
    "    if n < 0:\n",
    "        return\n",
    "\n",
    "    print(n)\n",
    "    \n",
    "    print_numbers_down_to_zero(n - 1)\n",
    "\n",
    "\n",
    "print_numbers_down_to_zero(n)"
   ]
  },
  {
   "cell_type": "code",
   "execution_count": 20,
   "id": "04ef3d1f",
   "metadata": {},
   "outputs": [
    {
     "name": "stdout",
     "output_type": "stream",
     "text": [
      "Enter a number: 5\n",
      "The factorial of 5 is: 120\n"
     ]
    }
   ],
   "source": [
    "# Python program to find the factorial of a number using recursion\n",
    "\n",
    "n = int(input(\"Enter a number: \"))\n",
    "def factorial(n):\n",
    "    if n == 0:\n",
    "        return 1\n",
    "    # Recursive case: n! = n * (n-1)!\n",
    "    else:\n",
    "        return n * factorial(n - 1)\n",
    "\n",
    "result = factorial(n)\n",
    "print(f\"The factorial of {n} is: {result}\")"
   ]
  },
  {
   "cell_type": "code",
   "execution_count": 9,
   "id": "d759e92f",
   "metadata": {},
   "outputs": [
    {
     "name": "stdout",
     "output_type": "stream",
     "text": [
      "Enter the number of elements: 5\n",
      "Enter number 1: 10\n",
      "Enter number 2: 10\n",
      "Enter number 3: 11\n",
      "Enter number 4: 12\n",
      "Enter number 5: 13\n",
      "The sum of 5 numbers is: 56.0\n"
     ]
    }
   ],
   "source": [
    "# Python program to display the sum of n numbers using a list without using a function\n",
    "\n",
    "n = int(input(\"Enter the number of elements: \"))\n",
    "\n",
    "numbers = []\n",
    "\n",
    "for i in range(n):\n",
    "    num = float(input(f\"Enter number {i + 1}: \"))\n",
    "    numbers.append(num)\n",
    "\n",
    "sum_of_numbers = sum(numbers)\n",
    "\n",
    "print(f\"The sum of {n} numbers is: {sum_of_numbers}\")\n"
   ]
  },
  {
   "cell_type": "code",
   "execution_count": 25,
   "id": "44ac62c3",
   "metadata": {},
   "outputs": [
    {
     "name": "stdout",
     "output_type": "stream",
     "text": [
      "Enter a list of numbers separated by spaces: 10\n",
      "Enter the number to search for: 54\n",
      "54 not found in the list.\n"
     ]
    }
   ],
   "source": [
    "#Python program to implement linear search\n",
    "\n",
    "def linear_search(arr, target):\n",
    "    for i in range(len(arr)):\n",
    "        if arr[i] == target:\n",
    "            return i \n",
    "    return -1  \n",
    "\n",
    "numbers = [int(x) for x in input(\"Enter a list of numbers separated by spaces: \").split()]\n",
    "\n",
    "target = int(input(\"Enter the number to search for: \"))\n",
    "\n",
    "\n",
    "result = linear_search(numbers, target)\n",
    "\n",
    "if result != -1:\n",
    "    print(f\"{target} found at index {result}.\")\n",
    "else:\n",
    "    print(f\"{target} not found in the list.\")"
   ]
  },
  {
   "cell_type": "code",
   "execution_count": 28,
   "id": "75ca792a",
   "metadata": {},
   "outputs": [
    {
     "name": "stdout",
     "output_type": "stream",
     "text": [
      "Enter number to be search on array : 14\n",
      "Element is present at index 4\n"
     ]
    }
   ],
   "source": [
    "#Python program to implement binary search\n",
    "\n",
    "def binarySearch(array, x, low, high):\n",
    "    \n",
    "    while low <= high:\n",
    "\n",
    "        mid = low + (high - low)//2\n",
    "\n",
    "        if array[mid] == x:\n",
    "            return mid\n",
    "\n",
    "        elif array[mid] < x:\n",
    "            low = mid + 1\n",
    "\n",
    "        else:\n",
    "            high = mid - 1\n",
    "\n",
    "    return -1\n",
    "\n",
    "\n",
    "array = [6,5,7,20,14,45]\n",
    "x = int(input(\"Enter number to be search on array : \"))\n",
    "\n",
    "result = binarySearch(array, x, 0, len(array)-1)\n",
    "\n",
    "if result != -1:\n",
    "    print(\"Element is present at index \" + str(result))\n",
    "else:\n",
    "    print(\"Not found\")"
   ]
  },
  {
   "cell_type": "code",
   "execution_count": 29,
   "id": "8b00ba2d",
   "metadata": {},
   "outputs": [
    {
     "name": "stdout",
     "output_type": "stream",
     "text": [
      "19 1 15 39 "
     ]
    }
   ],
   "source": [
    "# Python program to find the odd numbers in an array\n",
    "\n",
    "list1 = [19, 1, 24, 15, 6, 39]\n",
    "\n",
    "\n",
    "for num in list1:\n",
    "\n",
    "    if num % 2 != 0:\n",
    "        print(num, end=\" \")"
   ]
  },
  {
   "cell_type": "code",
   "execution_count": 30,
   "id": "f3036175",
   "metadata": {},
   "outputs": [
    {
     "name": "stdout",
     "output_type": "stream",
     "text": [
      "How many elements you want to enter? 5\n",
      "Enter 5 positive numbers\n",
      "17\n",
      "65\n",
      "14\n",
      "19\n",
      "10\n",
      "The largest number in list is 65\n"
     ]
    }
   ],
   "source": [
    "#Python program to find the largest number in a list without using built-in functions\n",
    "\n",
    "mylist = []\n",
    "S = int(input('How many elements you want to enter? '))\n",
    "\n",
    "print('Enter',str(S),'positive numbers')\n",
    "\n",
    "for i in range(S):\n",
    "    data = int(input())\n",
    "    mylist.append(data)\n",
    "\n",
    "max = 0\n",
    "for data in mylist:\n",
    "    if data > max:\n",
    "        max = data\n",
    "\n",
    "print('The largest number in list is', max)"
   ]
  },
  {
   "cell_type": "code",
   "execution_count": 31,
   "id": "a3d85eec",
   "metadata": {},
   "outputs": [
    {
     "name": "stdout",
     "output_type": "stream",
     "text": [
      "List = ['Hola', 'JAISHREERAM', 15, 'python', 'codeR']\n",
      "Enter indexValue : 3\n",
      "The list after inserting the given list item at the specified index:\n",
      "List =  ['Hola', 'JAISHREERAM', 15, 'sample', 'python', 'codeR']\n"
     ]
    }
   ],
   "source": [
    "#Python program to insert a number to any position in a list\n",
    "\n",
    "list1 = [\"Hola\", \"JAISHREERAM\", 15, \"python\", \"codeR\"]\n",
    "print(\"List =\",list1)\n",
    "\n",
    "\n",
    "insertItem = \"sample\"\n",
    "\n",
    "\n",
    "M = int(input(\"Enter indexValue : \"))\n",
    "\n",
    "list1.insert(M, insertItem)\n",
    "print(\"The list after inserting the given list item at the specified index:\")\n",
    "print(\"List = \",list1)"
   ]
  },
  {
   "cell_type": "code",
   "execution_count": 32,
   "id": "2f1a0d2e",
   "metadata": {},
   "outputs": [
    {
     "name": "stdout",
     "output_type": "stream",
     "text": [
      "Enter index value : 4\n",
      "List after deleting specified list item: ['Welcome', 'to', 'the', 'python']\n"
     ]
    }
   ],
   "source": [
    "#Python program to delete an element from a list by index\n",
    "\n",
    "inputList = [\"Welcome\", \"to\", \"the\", \"python\", \"course\"]\n",
    "\n",
    "\n",
    "Index = int(input(\"Enter index value : \"))\n",
    "\n",
    "\n",
    "del inputList[Index]\n",
    "\n",
    "print(\"List after deleting specified list item:\", inputList)"
   ]
  },
  {
   "cell_type": "code",
   "execution_count": 33,
   "id": "13d8dc67",
   "metadata": {},
   "outputs": [
    {
     "name": "stdout",
     "output_type": "stream",
     "text": [
      "Yes\n"
     ]
    }
   ],
   "source": [
    "#Python program to check whether a string is palindrome or not\n",
    "\n",
    "def isPalindrome(s):\n",
    "    return s == s[::-1]\n",
    "\n",
    "s = \"malayalam\"\n",
    "ans = isPalindrome(s)\n",
    "\n",
    "if ans:\n",
    "    print(\"Yes\")\n",
    "else:\n",
    "    print(\"No\")"
   ]
  },
  {
   "cell_type": "code",
   "execution_count": 34,
   "id": "77257c29",
   "metadata": {},
   "outputs": [
    {
     "name": "stdout",
     "output_type": "stream",
     "text": [
      "[9, 17, 3]\n",
      "[17, 12, 9]\n",
      "[11, 13, 18]\n"
     ]
    }
   ],
   "source": [
    "#. Python program to implement matrix addition\n",
    "\n",
    "X = [[4,9,2],\n",
    "    [11 ,5,6],\n",
    "    [7 ,8,9]]\n",
    "\n",
    "Y = [[5,8,1],\n",
    "    [6,7,3],\n",
    "    [4,5,9]]\n",
    "\n",
    "result = [[0,0,0],\n",
    "         [0,0,0],\n",
    "         [0,0,0]]\n",
    "\n",
    "for i in range(len(X)):\n",
    "    \n",
    "   for j in range(len(X[0])):\n",
    "       result[i][j] = X[i][j] + Y[i][j]\n",
    "\n",
    "for r in result:\n",
    "   print(r)"
   ]
  },
  {
   "cell_type": "code",
   "execution_count": 35,
   "id": "f923b54c",
   "metadata": {},
   "outputs": [
    {
     "name": "stdout",
     "output_type": "stream",
     "text": [
      "[102, 128, 146, 18]\n",
      "[78, 102, 82, 15]\n",
      "[99, 125, 108, 15]\n"
     ]
    }
   ],
   "source": [
    "#Python program to implement matrix multiplication\n",
    "\n",
    "X = [[2,6,14],\n",
    "    [4 ,5,7],\n",
    "    [3 ,8,9]]\n",
    "Y = [[5,8,1,2],\n",
    "    [6,7,3,0],\n",
    "    [4,5,9,1]]\n",
    "\n",
    "result = [[0,0,0,0],\n",
    "         [0,0,0,0],\n",
    "         [0,0,0,0]]\n",
    "\n",
    "\n",
    "for i in range(len(X)):\n",
    "    for j in range(len(Y[0])):\n",
    "        for k in range(len(Y)):\n",
    "            result[i][j] += X[i][k] * Y[k][j]\n",
    "\n",
    "for r in result:\n",
    "   print(r)"
   ]
  },
  {
   "cell_type": "code",
   "execution_count": 37,
   "id": "18b25e7f",
   "metadata": {},
   "outputs": [
    {
     "name": "stdout",
     "output_type": "stream",
     "text": [
      "Enter the year:2016\n",
      "2016\n",
      "2016 is a leap year\n"
     ]
    }
   ],
   "source": [
    "#Python program to check leap year\n",
    "\n",
    "year = int(input(\"Enter the year:\"))\n",
    "print(year)\n",
    "if (year % 400 == 0) and (year % 100 == 0):\n",
    "    print(\"{0} is a leap year\".format(year))\n",
    "elif (year % 4 ==0) and (year % 100 != 0):\n",
    "    print(\"{0} is a leap year\".format(year))\n",
    "else:\n",
    "    print(\"{0} is not a leap year\".format(year))"
   ]
  },
  {
   "cell_type": "code",
   "execution_count": 4,
   "id": "b62f3fd6",
   "metadata": {},
   "outputs": [
    {
     "name": "stdout",
     "output_type": "stream",
     "text": [
      "term of Fibonacci series to be find : 8\n",
      "\n",
      "8th term of Fibonacci series is: 13\n"
     ]
    }
   ],
   "source": [
    "#Python program to find the Nth term in a Fibonacci series using recursion\n",
    "def fib(n):\n",
    "    if n==1:\n",
    "        return 0\n",
    "    elif n==2:\n",
    "        return 1\n",
    "    else:\n",
    "        return fib(n-1) + fib(n-2)\n",
    "\n",
    "\n",
    "term = int(input(\"term of Fibonacci series to be find : \")) \n",
    "\n",
    "result = fib(term)\n",
    "print(\"\\n%dth term of Fibonacci series is: %d\" %(term, result))"
   ]
  },
  {
   "cell_type": "code",
   "execution_count": 5,
   "id": "a1401a3b",
   "metadata": {},
   "outputs": [
    {
     "name": "stdout",
     "output_type": "stream",
     "text": [
      "Enter the number of terms in the sequence: 4\n",
      "0 1 1 2 "
     ]
    }
   ],
   "source": [
    "#Python program to print Fibonacci series using iteration\n",
    "\n",
    "a = 0\n",
    "b = 1\n",
    "n=int(input(\"Enter the number of terms in the sequence: \"))\n",
    "print(a,b,end=\" \")\n",
    "while(n-2):\n",
    "    c=a+b\n",
    "    a,b = b,c\n",
    "    print(c,end=\" \")\n",
    "    n=n-1"
   ]
  },
  {
   "cell_type": "code",
   "execution_count": 7,
   "id": "9da87887",
   "metadata": {},
   "outputs": [
    {
     "name": "stdout",
     "output_type": "stream",
     "text": [
      "The Magic Tree\n",
      "1813\n",
      "Enid Blyton\n",
      "Mary Pope Osborne\n"
     ]
    }
   ],
   "source": [
    "#Python program to print all the items in a dictionary\n",
    "\n",
    "dictionary = {\n",
    "   'Novel': 'The Magic Tree',\n",
    "   'year': '1813',\n",
    "   'author': 'Enid Blyton',\n",
    "   'character': 'Mary Pope Osborne'\n",
    "}\n",
    "\n",
    "\n",
    "for values in dictionary.values():\n",
    "   print(values)"
   ]
  },
  {
   "cell_type": "code",
   "execution_count": 12,
   "id": "28657100",
   "metadata": {},
   "outputs": [
    {
     "name": "stdout",
     "output_type": "stream",
     "text": [
      "Select operation.\n",
      "1.Add\n",
      "2.Subtract\n",
      "3.Multiply\n",
      "4.Divide\n",
      "Enter choice(1/2/3/4): 3\n",
      "Enter first number: 9\n",
      "Enter second number: 5\n",
      "9.0 * 5.0 = 45.0\n",
      "Let's do next calculation? (yes/no): yes\n",
      "Enter choice(1/2/3/4): 1\n",
      "Enter first number: 2\n",
      "Enter second number: 3\n",
      "2.0 + 3.0 = 5.0\n",
      "Let's do next calculation? (yes/no): no\n"
     ]
    }
   ],
   "source": [
    "#Python program to implement a calculator to do basic operations\n",
    "\n",
    "def add(x, y):\n",
    "    return x + y\n",
    "\n",
    "def subtract(x, y):\n",
    "    return x - y\n",
    "\n",
    "def multiply(x, y):\n",
    "    return x * y\n",
    "\n",
    "def divide(x, y):\n",
    "    return x / y\n",
    "\n",
    "\n",
    "print(\"Select operation.\")\n",
    "print(\"1.Add\")\n",
    "print(\"2.Subtract\")\n",
    "print(\"3.Multiply\")\n",
    "print(\"4.Divide\")\n",
    "\n",
    "while True:\n",
    "    choice = input(\"Enter choice(1/2/3/4): \")\n",
    "\n",
    "    if choice in ('1', '2', '3', '4'):\n",
    "        try:\n",
    "            num1 = float(input(\"Enter first number: \"))\n",
    "            num2 = float(input(\"Enter second number: \"))\n",
    "        except ValueError:\n",
    "            print(\"Invalid input. Please enter a number.\")\n",
    "            continue\n",
    "\n",
    "        if choice == '1':\n",
    "            print(num1, \"+\", num2, \"=\", add(num1, num2))\n",
    "\n",
    "        elif choice == '2':\n",
    "            print(num1, \"-\", num2, \"=\", subtract(num1, num2))\n",
    "\n",
    "        elif choice == '3':\n",
    "            print(num1, \"*\", num2, \"=\", multiply(num1, num2))\n",
    "\n",
    "        elif choice == '4':\n",
    "            print(num1, \"/\", num2, \"=\", divide(num1, num2))\n",
    "\n",
    "        next_calculation = input(\"Let's do next calculation? (yes/no): \")\n",
    "        if next_calculation == \"no\":\n",
    "            break\n",
    "    else:\n",
    "        print(\"Invalid Input\")"
   ]
  },
  {
   "cell_type": "code",
   "execution_count": null,
   "id": "65bfaa38",
   "metadata": {},
   "outputs": [],
   "source": []
  }
 ],
 "metadata": {
  "kernelspec": {
   "display_name": "Python 3 (ipykernel)",
   "language": "python",
   "name": "python3"
  },
  "language_info": {
   "codemirror_mode": {
    "name": "ipython",
    "version": 3
   },
   "file_extension": ".py",
   "mimetype": "text/x-python",
   "name": "python",
   "nbconvert_exporter": "python",
   "pygments_lexer": "ipython3",
   "version": "3.11.5"
  }
 },
 "nbformat": 4,
 "nbformat_minor": 5
}
